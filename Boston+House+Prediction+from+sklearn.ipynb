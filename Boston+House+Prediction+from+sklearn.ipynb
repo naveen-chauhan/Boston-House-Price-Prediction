{
 "cells": [
  {
   "cell_type": "code",
   "execution_count": 1,
   "metadata": {
    "collapsed": true
   },
   "outputs": [],
   "source": [
    "from sklearn.datasets import load_boston"
   ]
  },
  {
   "cell_type": "code",
   "execution_count": 2,
   "metadata": {
    "collapsed": true
   },
   "outputs": [],
   "source": [
    "boston=load_boston()"
   ]
  },
  {
   "cell_type": "code",
   "execution_count": 3,
   "metadata": {},
   "outputs": [
    {
     "data": {
      "text/plain": [
       "dict_keys(['data', 'target', 'feature_names', 'DESCR'])"
      ]
     },
     "execution_count": 3,
     "metadata": {},
     "output_type": "execute_result"
    }
   ],
   "source": [
    "boston.keys()"
   ]
  },
  {
   "cell_type": "code",
   "execution_count": 4,
   "metadata": {},
   "outputs": [
    {
     "data": {
      "text/plain": [
       "\"Boston House Prices dataset\\n===========================\\n\\nNotes\\n------\\nData Set Characteristics:  \\n\\n    :Number of Instances: 506 \\n\\n    :Number of Attributes: 13 numeric/categorical predictive\\n    \\n    :Median Value (attribute 14) is usually the target\\n\\n    :Attribute Information (in order):\\n        - CRIM     per capita crime rate by town\\n        - ZN       proportion of residential land zoned for lots over 25,000 sq.ft.\\n        - INDUS    proportion of non-retail business acres per town\\n        - CHAS     Charles River dummy variable (= 1 if tract bounds river; 0 otherwise)\\n        - NOX      nitric oxides concentration (parts per 10 million)\\n        - RM       average number of rooms per dwelling\\n        - AGE      proportion of owner-occupied units built prior to 1940\\n        - DIS      weighted distances to five Boston employment centres\\n        - RAD      index of accessibility to radial highways\\n        - TAX      full-value property-tax rate per $10,000\\n        - PTRATIO  pupil-teacher ratio by town\\n        - B        1000(Bk - 0.63)^2 where Bk is the proportion of blacks by town\\n        - LSTAT    % lower status of the population\\n        - MEDV     Median value of owner-occupied homes in $1000's\\n\\n    :Missing Attribute Values: None\\n\\n    :Creator: Harrison, D. and Rubinfeld, D.L.\\n\\nThis is a copy of UCI ML housing dataset.\\nhttp://archive.ics.uci.edu/ml/datasets/Housing\\n\\n\\nThis dataset was taken from the StatLib library which is maintained at Carnegie Mellon University.\\n\\nThe Boston house-price data of Harrison, D. and Rubinfeld, D.L. 'Hedonic\\nprices and the demand for clean air', J. Environ. Economics & Management,\\nvol.5, 81-102, 1978.   Used in Belsley, Kuh & Welsch, 'Regression diagnostics\\n...', Wiley, 1980.   N.B. Various transformations are used in the table on\\npages 244-261 of the latter.\\n\\nThe Boston house-price data has been used in many machine learning papers that address regression\\nproblems.   \\n     \\n**References**\\n\\n   - Belsley, Kuh & Welsch, 'Regression diagnostics: Identifying Influential Data and Sources of Collinearity', Wiley, 1980. 244-261.\\n   - Quinlan,R. (1993). Combining Instance-Based and Model-Based Learning. In Proceedings on the Tenth International Conference of Machine Learning, 236-243, University of Massachusetts, Amherst. Morgan Kaufmann.\\n   - many more! (see http://archive.ics.uci.edu/ml/datasets/Housing)\\n\""
      ]
     },
     "execution_count": 4,
     "metadata": {},
     "output_type": "execute_result"
    }
   ],
   "source": [
    "boston.DESCR"
   ]
  },
  {
   "cell_type": "code",
   "execution_count": 5,
   "metadata": {
    "collapsed": true
   },
   "outputs": [],
   "source": [
    "import pandas as pd\n",
    "import numpy as np\n",
    "import matplotlib.pyplot as plt\n",
    "%matplotlib inline "
   ]
  },
  {
   "cell_type": "code",
   "execution_count": 6,
   "metadata": {
    "collapsed": true
   },
   "outputs": [],
   "source": [
    "data=pd.DataFrame(boston.data)"
   ]
  },
  {
   "cell_type": "code",
   "execution_count": 7,
   "metadata": {},
   "outputs": [
    {
     "data": {
      "text/html": [
       "<div>\n",
       "<style>\n",
       "    .dataframe thead tr:only-child th {\n",
       "        text-align: right;\n",
       "    }\n",
       "\n",
       "    .dataframe thead th {\n",
       "        text-align: left;\n",
       "    }\n",
       "\n",
       "    .dataframe tbody tr th {\n",
       "        vertical-align: top;\n",
       "    }\n",
       "</style>\n",
       "<table border=\"1\" class=\"dataframe\">\n",
       "  <thead>\n",
       "    <tr style=\"text-align: right;\">\n",
       "      <th></th>\n",
       "      <th>0</th>\n",
       "      <th>1</th>\n",
       "      <th>2</th>\n",
       "      <th>3</th>\n",
       "      <th>4</th>\n",
       "      <th>5</th>\n",
       "      <th>6</th>\n",
       "      <th>7</th>\n",
       "      <th>8</th>\n",
       "      <th>9</th>\n",
       "      <th>10</th>\n",
       "      <th>11</th>\n",
       "      <th>12</th>\n",
       "    </tr>\n",
       "  </thead>\n",
       "  <tbody>\n",
       "    <tr>\n",
       "      <th>0</th>\n",
       "      <td>0.00632</td>\n",
       "      <td>18.0</td>\n",
       "      <td>2.31</td>\n",
       "      <td>0.0</td>\n",
       "      <td>0.538</td>\n",
       "      <td>6.575</td>\n",
       "      <td>65.2</td>\n",
       "      <td>4.0900</td>\n",
       "      <td>1.0</td>\n",
       "      <td>296.0</td>\n",
       "      <td>15.3</td>\n",
       "      <td>396.90</td>\n",
       "      <td>4.98</td>\n",
       "    </tr>\n",
       "    <tr>\n",
       "      <th>1</th>\n",
       "      <td>0.02731</td>\n",
       "      <td>0.0</td>\n",
       "      <td>7.07</td>\n",
       "      <td>0.0</td>\n",
       "      <td>0.469</td>\n",
       "      <td>6.421</td>\n",
       "      <td>78.9</td>\n",
       "      <td>4.9671</td>\n",
       "      <td>2.0</td>\n",
       "      <td>242.0</td>\n",
       "      <td>17.8</td>\n",
       "      <td>396.90</td>\n",
       "      <td>9.14</td>\n",
       "    </tr>\n",
       "    <tr>\n",
       "      <th>2</th>\n",
       "      <td>0.02729</td>\n",
       "      <td>0.0</td>\n",
       "      <td>7.07</td>\n",
       "      <td>0.0</td>\n",
       "      <td>0.469</td>\n",
       "      <td>7.185</td>\n",
       "      <td>61.1</td>\n",
       "      <td>4.9671</td>\n",
       "      <td>2.0</td>\n",
       "      <td>242.0</td>\n",
       "      <td>17.8</td>\n",
       "      <td>392.83</td>\n",
       "      <td>4.03</td>\n",
       "    </tr>\n",
       "    <tr>\n",
       "      <th>3</th>\n",
       "      <td>0.03237</td>\n",
       "      <td>0.0</td>\n",
       "      <td>2.18</td>\n",
       "      <td>0.0</td>\n",
       "      <td>0.458</td>\n",
       "      <td>6.998</td>\n",
       "      <td>45.8</td>\n",
       "      <td>6.0622</td>\n",
       "      <td>3.0</td>\n",
       "      <td>222.0</td>\n",
       "      <td>18.7</td>\n",
       "      <td>394.63</td>\n",
       "      <td>2.94</td>\n",
       "    </tr>\n",
       "    <tr>\n",
       "      <th>4</th>\n",
       "      <td>0.06905</td>\n",
       "      <td>0.0</td>\n",
       "      <td>2.18</td>\n",
       "      <td>0.0</td>\n",
       "      <td>0.458</td>\n",
       "      <td>7.147</td>\n",
       "      <td>54.2</td>\n",
       "      <td>6.0622</td>\n",
       "      <td>3.0</td>\n",
       "      <td>222.0</td>\n",
       "      <td>18.7</td>\n",
       "      <td>396.90</td>\n",
       "      <td>5.33</td>\n",
       "    </tr>\n",
       "  </tbody>\n",
       "</table>\n",
       "</div>"
      ],
      "text/plain": [
       "        0     1     2    3      4      5     6       7    8      9     10  \\\n",
       "0  0.00632  18.0  2.31  0.0  0.538  6.575  65.2  4.0900  1.0  296.0  15.3   \n",
       "1  0.02731   0.0  7.07  0.0  0.469  6.421  78.9  4.9671  2.0  242.0  17.8   \n",
       "2  0.02729   0.0  7.07  0.0  0.469  7.185  61.1  4.9671  2.0  242.0  17.8   \n",
       "3  0.03237   0.0  2.18  0.0  0.458  6.998  45.8  6.0622  3.0  222.0  18.7   \n",
       "4  0.06905   0.0  2.18  0.0  0.458  7.147  54.2  6.0622  3.0  222.0  18.7   \n",
       "\n",
       "       11    12  \n",
       "0  396.90  4.98  \n",
       "1  396.90  9.14  \n",
       "2  392.83  4.03  \n",
       "3  394.63  2.94  \n",
       "4  396.90  5.33  "
      ]
     },
     "execution_count": 7,
     "metadata": {},
     "output_type": "execute_result"
    }
   ],
   "source": [
    "data.head()"
   ]
  },
  {
   "cell_type": "code",
   "execution_count": 8,
   "metadata": {
    "collapsed": true
   },
   "outputs": [],
   "source": [
    "data.columns=boston.feature_names"
   ]
  },
  {
   "cell_type": "code",
   "execution_count": 9,
   "metadata": {},
   "outputs": [
    {
     "data": {
      "text/html": [
       "<div>\n",
       "<style>\n",
       "    .dataframe thead tr:only-child th {\n",
       "        text-align: right;\n",
       "    }\n",
       "\n",
       "    .dataframe thead th {\n",
       "        text-align: left;\n",
       "    }\n",
       "\n",
       "    .dataframe tbody tr th {\n",
       "        vertical-align: top;\n",
       "    }\n",
       "</style>\n",
       "<table border=\"1\" class=\"dataframe\">\n",
       "  <thead>\n",
       "    <tr style=\"text-align: right;\">\n",
       "      <th></th>\n",
       "      <th>CRIM</th>\n",
       "      <th>ZN</th>\n",
       "      <th>INDUS</th>\n",
       "      <th>CHAS</th>\n",
       "      <th>NOX</th>\n",
       "      <th>RM</th>\n",
       "      <th>AGE</th>\n",
       "      <th>DIS</th>\n",
       "      <th>RAD</th>\n",
       "      <th>TAX</th>\n",
       "      <th>PTRATIO</th>\n",
       "      <th>B</th>\n",
       "      <th>LSTAT</th>\n",
       "    </tr>\n",
       "  </thead>\n",
       "  <tbody>\n",
       "    <tr>\n",
       "      <th>0</th>\n",
       "      <td>0.00632</td>\n",
       "      <td>18.0</td>\n",
       "      <td>2.31</td>\n",
       "      <td>0.0</td>\n",
       "      <td>0.538</td>\n",
       "      <td>6.575</td>\n",
       "      <td>65.2</td>\n",
       "      <td>4.0900</td>\n",
       "      <td>1.0</td>\n",
       "      <td>296.0</td>\n",
       "      <td>15.3</td>\n",
       "      <td>396.90</td>\n",
       "      <td>4.98</td>\n",
       "    </tr>\n",
       "    <tr>\n",
       "      <th>1</th>\n",
       "      <td>0.02731</td>\n",
       "      <td>0.0</td>\n",
       "      <td>7.07</td>\n",
       "      <td>0.0</td>\n",
       "      <td>0.469</td>\n",
       "      <td>6.421</td>\n",
       "      <td>78.9</td>\n",
       "      <td>4.9671</td>\n",
       "      <td>2.0</td>\n",
       "      <td>242.0</td>\n",
       "      <td>17.8</td>\n",
       "      <td>396.90</td>\n",
       "      <td>9.14</td>\n",
       "    </tr>\n",
       "    <tr>\n",
       "      <th>2</th>\n",
       "      <td>0.02729</td>\n",
       "      <td>0.0</td>\n",
       "      <td>7.07</td>\n",
       "      <td>0.0</td>\n",
       "      <td>0.469</td>\n",
       "      <td>7.185</td>\n",
       "      <td>61.1</td>\n",
       "      <td>4.9671</td>\n",
       "      <td>2.0</td>\n",
       "      <td>242.0</td>\n",
       "      <td>17.8</td>\n",
       "      <td>392.83</td>\n",
       "      <td>4.03</td>\n",
       "    </tr>\n",
       "    <tr>\n",
       "      <th>3</th>\n",
       "      <td>0.03237</td>\n",
       "      <td>0.0</td>\n",
       "      <td>2.18</td>\n",
       "      <td>0.0</td>\n",
       "      <td>0.458</td>\n",
       "      <td>6.998</td>\n",
       "      <td>45.8</td>\n",
       "      <td>6.0622</td>\n",
       "      <td>3.0</td>\n",
       "      <td>222.0</td>\n",
       "      <td>18.7</td>\n",
       "      <td>394.63</td>\n",
       "      <td>2.94</td>\n",
       "    </tr>\n",
       "    <tr>\n",
       "      <th>4</th>\n",
       "      <td>0.06905</td>\n",
       "      <td>0.0</td>\n",
       "      <td>2.18</td>\n",
       "      <td>0.0</td>\n",
       "      <td>0.458</td>\n",
       "      <td>7.147</td>\n",
       "      <td>54.2</td>\n",
       "      <td>6.0622</td>\n",
       "      <td>3.0</td>\n",
       "      <td>222.0</td>\n",
       "      <td>18.7</td>\n",
       "      <td>396.90</td>\n",
       "      <td>5.33</td>\n",
       "    </tr>\n",
       "  </tbody>\n",
       "</table>\n",
       "</div>"
      ],
      "text/plain": [
       "      CRIM    ZN  INDUS  CHAS    NOX     RM   AGE     DIS  RAD    TAX  \\\n",
       "0  0.00632  18.0   2.31   0.0  0.538  6.575  65.2  4.0900  1.0  296.0   \n",
       "1  0.02731   0.0   7.07   0.0  0.469  6.421  78.9  4.9671  2.0  242.0   \n",
       "2  0.02729   0.0   7.07   0.0  0.469  7.185  61.1  4.9671  2.0  242.0   \n",
       "3  0.03237   0.0   2.18   0.0  0.458  6.998  45.8  6.0622  3.0  222.0   \n",
       "4  0.06905   0.0   2.18   0.0  0.458  7.147  54.2  6.0622  3.0  222.0   \n",
       "\n",
       "   PTRATIO       B  LSTAT  \n",
       "0     15.3  396.90   4.98  \n",
       "1     17.8  396.90   9.14  \n",
       "2     17.8  392.83   4.03  \n",
       "3     18.7  394.63   2.94  \n",
       "4     18.7  396.90   5.33  "
      ]
     },
     "execution_count": 9,
     "metadata": {},
     "output_type": "execute_result"
    }
   ],
   "source": [
    "data.head()"
   ]
  },
  {
   "cell_type": "code",
   "execution_count": 10,
   "metadata": {
    "collapsed": true
   },
   "outputs": [],
   "source": [
    "target=pd.DataFrame(boston.target)\n",
    "target.columns=['MEDV']"
   ]
  },
  {
   "cell_type": "code",
   "execution_count": 11,
   "metadata": {},
   "outputs": [
    {
     "data": {
      "text/plain": [
       "16"
      ]
     },
     "execution_count": 11,
     "metadata": {},
     "output_type": "execute_result"
    }
   ],
   "source": [
    "len(target.loc[target.MEDV==50.0,])"
   ]
  },
  {
   "cell_type": "code",
   "execution_count": 12,
   "metadata": {
    "collapsed": true
   },
   "outputs": [],
   "source": [
    "data['MEDV']=target['MEDV']"
   ]
  },
  {
   "cell_type": "code",
   "execution_count": 13,
   "metadata": {},
   "outputs": [
    {
     "data": {
      "text/html": [
       "<div>\n",
       "<style>\n",
       "    .dataframe thead tr:only-child th {\n",
       "        text-align: right;\n",
       "    }\n",
       "\n",
       "    .dataframe thead th {\n",
       "        text-align: left;\n",
       "    }\n",
       "\n",
       "    .dataframe tbody tr th {\n",
       "        vertical-align: top;\n",
       "    }\n",
       "</style>\n",
       "<table border=\"1\" class=\"dataframe\">\n",
       "  <thead>\n",
       "    <tr style=\"text-align: right;\">\n",
       "      <th></th>\n",
       "      <th>CRIM</th>\n",
       "      <th>ZN</th>\n",
       "      <th>INDUS</th>\n",
       "      <th>CHAS</th>\n",
       "      <th>NOX</th>\n",
       "      <th>RM</th>\n",
       "      <th>AGE</th>\n",
       "      <th>DIS</th>\n",
       "      <th>RAD</th>\n",
       "      <th>TAX</th>\n",
       "      <th>PTRATIO</th>\n",
       "      <th>B</th>\n",
       "      <th>LSTAT</th>\n",
       "      <th>MEDV</th>\n",
       "    </tr>\n",
       "  </thead>\n",
       "  <tbody>\n",
       "    <tr>\n",
       "      <th>0</th>\n",
       "      <td>0.00632</td>\n",
       "      <td>18.0</td>\n",
       "      <td>2.31</td>\n",
       "      <td>0.0</td>\n",
       "      <td>0.538</td>\n",
       "      <td>6.575</td>\n",
       "      <td>65.2</td>\n",
       "      <td>4.0900</td>\n",
       "      <td>1.0</td>\n",
       "      <td>296.0</td>\n",
       "      <td>15.3</td>\n",
       "      <td>396.90</td>\n",
       "      <td>4.98</td>\n",
       "      <td>24.0</td>\n",
       "    </tr>\n",
       "    <tr>\n",
       "      <th>1</th>\n",
       "      <td>0.02731</td>\n",
       "      <td>0.0</td>\n",
       "      <td>7.07</td>\n",
       "      <td>0.0</td>\n",
       "      <td>0.469</td>\n",
       "      <td>6.421</td>\n",
       "      <td>78.9</td>\n",
       "      <td>4.9671</td>\n",
       "      <td>2.0</td>\n",
       "      <td>242.0</td>\n",
       "      <td>17.8</td>\n",
       "      <td>396.90</td>\n",
       "      <td>9.14</td>\n",
       "      <td>21.6</td>\n",
       "    </tr>\n",
       "    <tr>\n",
       "      <th>2</th>\n",
       "      <td>0.02729</td>\n",
       "      <td>0.0</td>\n",
       "      <td>7.07</td>\n",
       "      <td>0.0</td>\n",
       "      <td>0.469</td>\n",
       "      <td>7.185</td>\n",
       "      <td>61.1</td>\n",
       "      <td>4.9671</td>\n",
       "      <td>2.0</td>\n",
       "      <td>242.0</td>\n",
       "      <td>17.8</td>\n",
       "      <td>392.83</td>\n",
       "      <td>4.03</td>\n",
       "      <td>34.7</td>\n",
       "    </tr>\n",
       "    <tr>\n",
       "      <th>3</th>\n",
       "      <td>0.03237</td>\n",
       "      <td>0.0</td>\n",
       "      <td>2.18</td>\n",
       "      <td>0.0</td>\n",
       "      <td>0.458</td>\n",
       "      <td>6.998</td>\n",
       "      <td>45.8</td>\n",
       "      <td>6.0622</td>\n",
       "      <td>3.0</td>\n",
       "      <td>222.0</td>\n",
       "      <td>18.7</td>\n",
       "      <td>394.63</td>\n",
       "      <td>2.94</td>\n",
       "      <td>33.4</td>\n",
       "    </tr>\n",
       "    <tr>\n",
       "      <th>4</th>\n",
       "      <td>0.06905</td>\n",
       "      <td>0.0</td>\n",
       "      <td>2.18</td>\n",
       "      <td>0.0</td>\n",
       "      <td>0.458</td>\n",
       "      <td>7.147</td>\n",
       "      <td>54.2</td>\n",
       "      <td>6.0622</td>\n",
       "      <td>3.0</td>\n",
       "      <td>222.0</td>\n",
       "      <td>18.7</td>\n",
       "      <td>396.90</td>\n",
       "      <td>5.33</td>\n",
       "      <td>36.2</td>\n",
       "    </tr>\n",
       "  </tbody>\n",
       "</table>\n",
       "</div>"
      ],
      "text/plain": [
       "      CRIM    ZN  INDUS  CHAS    NOX     RM   AGE     DIS  RAD    TAX  \\\n",
       "0  0.00632  18.0   2.31   0.0  0.538  6.575  65.2  4.0900  1.0  296.0   \n",
       "1  0.02731   0.0   7.07   0.0  0.469  6.421  78.9  4.9671  2.0  242.0   \n",
       "2  0.02729   0.0   7.07   0.0  0.469  7.185  61.1  4.9671  2.0  242.0   \n",
       "3  0.03237   0.0   2.18   0.0  0.458  6.998  45.8  6.0622  3.0  222.0   \n",
       "4  0.06905   0.0   2.18   0.0  0.458  7.147  54.2  6.0622  3.0  222.0   \n",
       "\n",
       "   PTRATIO       B  LSTAT  MEDV  \n",
       "0     15.3  396.90   4.98  24.0  \n",
       "1     17.8  396.90   9.14  21.6  \n",
       "2     17.8  392.83   4.03  34.7  \n",
       "3     18.7  394.63   2.94  33.4  \n",
       "4     18.7  396.90   5.33  36.2  "
      ]
     },
     "execution_count": 13,
     "metadata": {},
     "output_type": "execute_result"
    }
   ],
   "source": [
    "data.head()"
   ]
  },
  {
   "cell_type": "code",
   "execution_count": 14,
   "metadata": {
    "scrolled": false
   },
   "outputs": [
    {
     "data": {
      "text/plain": [
       "<matplotlib.axes._subplots.AxesSubplot at 0x1cfb06c2828>"
      ]
     },
     "execution_count": 14,
     "metadata": {},
     "output_type": "execute_result"
    },
    {
     "data": {
      "image/png": "[encoded data removed]",
      "text/plain": [
       "<matplotlib.figure.Figure at 0x1cfb06b5470>"
      ]
     },
     "metadata": {},
     "output_type": "display_data"
    }
   ],
   "source": [
    "ax=plt.subplots(figsize=(15,9))\n",
    "import seaborn as sns\n",
    "correl=data.corr()\n",
    "sns.heatmap(correl,vmax=0.8,square=True)"
   ]
  },
  {
   "cell_type": "code",
   "execution_count": 15,
   "metadata": {},
   "outputs": [
    {
     "name": "stderr",
     "output_type": "stream",
     "text": [
      "C:\\Users\\naveen chauhan\\Anaconda3\\lib\\site-packages\\sklearn\\cross_validation.py:41: DeprecationWarning: This module was deprecated in version 0.18 in favor of the model_selection module into which all the refactored classes and functions are moved. Also note that the interface of the new CV iterators are different from that of this module. This module will be removed in 0.20.\n",
      "  \"This module will be removed in 0.20.\", DeprecationWarning)\n"
     ]
    }
   ],
   "source": [
    "from sklearn.cross_validation import ShuffleSplit"
   ]
  },
  {
   "cell_type": "code",
   "execution_count": 16,
   "metadata": {
    "collapsed": true
   },
   "outputs": [],
   "source": [
    "price=target.MEDV"
   ]
  },
  {
   "cell_type": "code",
   "execution_count": 17,
   "metadata": {
    "collapsed": true
   },
   "outputs": [],
   "source": [
    "features=data.loc[:,['RM','PTRATIO','LSTAT']]"
   ]
  },
  {
   "cell_type": "code",
   "execution_count": 18,
   "metadata": {
    "scrolled": true
   },
   "outputs": [
    {
     "data": {
      "text/html": [
       "<div>\n",
       "<style>\n",
       "    .dataframe thead tr:only-child th {\n",
       "        text-align: right;\n",
       "    }\n",
       "\n",
       "    .dataframe thead th {\n",
       "        text-align: left;\n",
       "    }\n",
       "\n",
       "    .dataframe tbody tr th {\n",
       "        vertical-align: top;\n",
       "    }\n",
       "</style>\n",
       "<table border=\"1\" class=\"dataframe\">\n",
       "  <thead>\n",
       "    <tr style=\"text-align: right;\">\n",
       "      <th></th>\n",
       "      <th>RM</th>\n",
       "      <th>PTRATIO</th>\n",
       "      <th>LSTAT</th>\n",
       "    </tr>\n",
       "  </thead>\n",
       "  <tbody>\n",
       "    <tr>\n",
       "      <th>0</th>\n",
       "      <td>6.575</td>\n",
       "      <td>15.3</td>\n",
       "      <td>4.98</td>\n",
       "    </tr>\n",
       "    <tr>\n",
       "      <th>1</th>\n",
       "      <td>6.421</td>\n",
       "      <td>17.8</td>\n",
       "      <td>9.14</td>\n",
       "    </tr>\n",
       "    <tr>\n",
       "      <th>2</th>\n",
       "      <td>7.185</td>\n",
       "      <td>17.8</td>\n",
       "      <td>4.03</td>\n",
       "    </tr>\n",
       "    <tr>\n",
       "      <th>3</th>\n",
       "      <td>6.998</td>\n",
       "      <td>18.7</td>\n",
       "      <td>2.94</td>\n",
       "    </tr>\n",
       "    <tr>\n",
       "      <th>4</th>\n",
       "      <td>7.147</td>\n",
       "      <td>18.7</td>\n",
       "      <td>5.33</td>\n",
       "    </tr>\n",
       "  </tbody>\n",
       "</table>\n",
       "</div>"
      ],
      "text/plain": [
       "      RM  PTRATIO  LSTAT\n",
       "0  6.575     15.3   4.98\n",
       "1  6.421     17.8   9.14\n",
       "2  7.185     17.8   4.03\n",
       "3  6.998     18.7   2.94\n",
       "4  7.147     18.7   5.33"
      ]
     },
     "execution_count": 18,
     "metadata": {},
     "output_type": "execute_result"
    }
   ],
   "source": [
    "features.head()"
   ]
  },
  {
   "cell_type": "code",
   "execution_count": 19,
   "metadata": {
    "collapsed": true
   },
   "outputs": [],
   "source": [
    "minimum_price=np.min(price)"
   ]
  },
  {
   "cell_type": "code",
   "execution_count": 20,
   "metadata": {
    "collapsed": true
   },
   "outputs": [],
   "source": [
    "maximum_price=np.max(price)"
   ]
  },
  {
   "cell_type": "code",
   "execution_count": 21,
   "metadata": {
    "collapsed": true
   },
   "outputs": [],
   "source": [
    "mean_price=np.mean(price)"
   ]
  },
  {
   "cell_type": "code",
   "execution_count": 22,
   "metadata": {
    "collapsed": true
   },
   "outputs": [],
   "source": [
    "median_price=np.median(price)"
   ]
  },
  {
   "cell_type": "code",
   "execution_count": 23,
   "metadata": {
    "collapsed": true
   },
   "outputs": [],
   "source": [
    "std_price=np.std(price)"
   ]
  },
  {
   "cell_type": "code",
   "execution_count": 24,
   "metadata": {
    "collapsed": true
   },
   "outputs": [],
   "source": [
    "first_quartile=np.percentile(price,25)\n",
    "third_quartile=np.percentile(price,75)\n",
    "inter_quartile=third_quartile-first_quartile"
   ]
  },
  {
   "cell_type": "code",
   "execution_count": 25,
   "metadata": {},
   "outputs": [
    {
     "name": "stdout",
     "output_type": "stream",
     "text": [
      "Statistics for Boston housing dataset:\n",
      "\n",
      "Minimum price: $5.00\n",
      "Maximum price: $50.00\n",
      "Mean price: $22.53\n",
      "Median price $21.20\n",
      "Standard deviation of prices: $9.19\n",
      "First quartile of prices: $17.02\n",
      "Second quartile of prices: $25.00\n",
      "Interquartile (IQR) of prices: $7.98\n"
     ]
    }
   ],
   "source": [
    "print(\"Statistics for Boston housing dataset:\\n\")\n",
    "print(\"Minimum price: ${:,.2f}\".format(minimum_price))\n",
    "print (\"Maximum price: ${:,.2f}\".format(maximum_price))\n",
    "print (\"Mean price: ${:,.2f}\".format(mean_price))\n",
    "print (\"Median price ${:,.2f}\".format(median_price))\n",
    "print (\"Standard deviation of prices: ${:,.2f}\".format(std_price))\n",
    "print (\"First quartile of prices: ${:,.2f}\".format(first_quartile))\n",
    "print (\"Second quartile of prices: ${:,.2f}\".format(third_quartile))\n",
    "print (\"Interquartile (IQR) of prices: ${:,.2f}\".format(inter_quartile))"
   ]
  },
  {
   "cell_type": "code",
   "execution_count": 26,
   "metadata": {},
   "outputs": [
    {
     "data": {
      "image/png": "[encoded data removed]",
      "text/plain": [
       "<matplotlib.figure.Figure at 0x1cfb0f6b7f0>"
      ]
     },
     "metadata": {},
     "output_type": "display_data"
    }
   ],
   "source": [
    "for i,col in enumerate(features.columns):\n",
    "    plt.subplot(1,3,i+1)\n",
    "    x=data[col]\n",
    "    y=price\n",
    "    plt.plot(x,y,'o')\n",
    "    plt.plot(np.unique(x),np.poly1d(np.polyfit(x,y,1))(np.unique(x)))\n",
    "    plt.title(col)\n",
    "    plt.xlabel(col)\n",
    "    plt.ylabel('price')"
   ]
  },
  {
   "cell_type": "code",
   "execution_count": 44,
   "metadata": {},
   "outputs": [],
   "source": [
    "from sklearn.metrics import r2_score\n",
    "def performance_metric(y_true,y_pred):\n",
    "    accuracy_score=r2_score(y_pred,y_true)\n",
    "    print(\"the accuracy of classification  \",accuracy_score)\n",
    "    return accuracy_score "
   ]
  },
  {
   "cell_type": "code",
   "execution_count": 28,
   "metadata": {
    "collapsed": true
   },
   "outputs": [],
   "source": [
    "#now split the dataset\n",
    "from sklearn.model_selection import train_test_split\n",
    "train_X,test_X,train_y,test_y=train_test_split(features,price,random_state=42)"
   ]
  },
  {
   "cell_type": "code",
   "execution_count": 29,
   "metadata": {},
   "outputs": [
    {
     "data": {
      "text/plain": [
       "(379, 3)"
      ]
     },
     "execution_count": 29,
     "metadata": {},
     "output_type": "execute_result"
    }
   ],
   "source": [
    "train_X.shape"
   ]
  },
  {
   "cell_type": "code",
   "execution_count": 48,
   "metadata": {},
   "outputs": [],
   "source": [
    "from sklearn.metrics import make_scorer\n",
    "from sklearn.tree import DecisionTreeRegressor\n",
    "from sklearn.model_selection import GridSearchCV\n",
    "\n",
    "def fit_model(X,y):\n",
    "    cv_sets=ShuffleSplit(X.shape[0],n_iter=10,test_size=.20,random_state=0)\n",
    "    regressor=DecisionTreeRegressor()\n",
    "    count=range(1,11)\n",
    "    params=dict(max_depth=count)\n",
    "    #now grid Search cv\n",
    "    scoring_func=make_scorer(performance_metric)\n",
    "    grid=GridSearchCV(regressor,params,cv=cv_sets,scoring=scoring_func)\n",
    "    grid=grid.fit(X,y)\n",
    "    return grid.best_estimator_"
   ]
  },
  {
   "cell_type": "code",
   "execution_count": 55,
   "metadata": {
    "collapsed": true
   },
   "outputs": [],
   "source": [
    "from sklearn.model_selection import RandomizedSearchCV\n",
    "def fit_model2(X,y):\n",
    "    cv_sets=ShuffleSplit(X.shape[0],n_iter=10,test_size=.20,random_state=0)\n",
    "    regressor=DecisionTreeRegressor()\n",
    "    count=range(1,11)\n",
    "    params=dict(max_depth=count)\n",
    "    scoring_func=make_scorer(performance_metric)\n",
    "    grid=RandomizedSearchCV(regressor,params,cv=cv_sets,scoring=scoring_func)\n",
    "    grid=grid.fit(X,y)\n",
    "    return grid.best_estimator_"
   ]
  },
  {
   "cell_type": "code",
   "execution_count": 56,
   "metadata": {},
   "outputs": [
    {
     "name": "stdout",
     "output_type": "stream",
     "text": [
      "the accuracy of classification   -0.115779422858\n",
      "the accuracy of classification   -0.185733043968\n",
      "the accuracy of classification   0.156439230606\n",
      "the accuracy of classification   -0.138898459171\n",
      "the accuracy of classification   -0.583494534645\n",
      "the accuracy of classification   -0.0990189812412\n",
      "the accuracy of classification   -1.17611834322\n",
      "the accuracy of classification   0.210686681002\n",
      "the accuracy of classification   -0.268052751394\n",
      "the accuracy of classification   0.0743292687445\n",
      "the accuracy of classification   -0.317042810483\n",
      "the accuracy of classification   -0.2161465017\n",
      "the accuracy of classification   -0.602672040829\n",
      "the accuracy of classification   -0.0388592704353\n",
      "the accuracy of classification   -0.139663329391\n",
      "the accuracy of classification   -0.104029145543\n",
      "the accuracy of classification   -0.794646465115\n",
      "the accuracy of classification   -0.0222016039089\n",
      "the accuracy of classification   -0.459652778868\n",
      "the accuracy of classification   -0.102093538129\n",
      "the accuracy of classification   0.584894094547\n",
      "the accuracy of classification   0.577438070587\n",
      "the accuracy of classification   0.71664734936\n",
      "the accuracy of classification   0.59610919444\n",
      "the accuracy of classification   0.536238390333\n",
      "the accuracy of classification   0.592092761599\n",
      "the accuracy of classification   -0.0967317628829\n",
      "the accuracy of classification   0.69686905286\n",
      "the accuracy of classification   0.349976907617\n",
      "the accuracy of classification   0.649657485384\n",
      "the accuracy of classification   0.694534912915\n",
      "the accuracy of classification   0.53780432161\n",
      "the accuracy of classification   0.476395985685\n",
      "the accuracy of classification   0.655442837673\n",
      "the accuracy of classification   0.481822509193\n",
      "the accuracy of classification   0.54078285827\n",
      "the accuracy of classification   0.260056970316\n",
      "the accuracy of classification   0.623736497383\n",
      "the accuracy of classification   0.44711596715\n",
      "the accuracy of classification   0.581303432916\n",
      "the accuracy of classification   0.785594248227\n",
      "the accuracy of classification   0.743055231597\n",
      "the accuracy of classification   0.815560183327\n",
      "the accuracy of classification   0.749974723353\n",
      "the accuracy of classification   0.578090862566\n",
      "the accuracy of classification   0.756521747008\n",
      "the accuracy of classification   0.175575289855\n",
      "the accuracy of classification   0.818248743992\n",
      "the accuracy of classification   0.505778359658\n",
      "the accuracy of classification   0.808920028529\n",
      "the accuracy of classification   0.776728518186\n",
      "the accuracy of classification   0.72126487748\n",
      "the accuracy of classification   0.63407139942\n",
      "the accuracy of classification   0.782885283839\n",
      "the accuracy of classification   0.604442668775\n",
      "the accuracy of classification   0.741327650219\n",
      "the accuracy of classification   0.496753875001\n",
      "the accuracy of classification   0.78756820893\n",
      "the accuracy of classification   0.67668470812\n",
      "the accuracy of classification   0.762925780437\n",
      "the accuracy of classification   0.694390642654\n",
      "the accuracy of classification   0.846123973085\n",
      "the accuracy of classification   0.80366124321\n",
      "the accuracy of classification   0.841129600862\n",
      "the accuracy of classification   0.689906708111\n",
      "the accuracy of classification   0.832357110073\n",
      "the accuracy of classification   0.359699597782\n",
      "the accuracy of classification   0.897011742368\n",
      "the accuracy of classification   0.552565466384\n",
      "the accuracy of classification   0.884809092956\n",
      "the accuracy of classification   0.795216230226\n",
      "the accuracy of classification   0.841222357376\n",
      "the accuracy of classification   0.658518291897\n",
      "the accuracy of classification   0.86857317433\n",
      "the accuracy of classification   0.737093907966\n",
      "the accuracy of classification   0.850795964799\n",
      "the accuracy of classification   0.621560497854\n",
      "the accuracy of classification   0.846836734451\n",
      "the accuracy of classification   0.755286857502\n",
      "the accuracy of classification   0.843912646216\n",
      "the accuracy of classification   0.552794071373\n",
      "the accuracy of classification   0.92122502323\n",
      "the accuracy of classification   0.808330843046\n",
      "the accuracy of classification   0.885427787731\n",
      "the accuracy of classification   0.765317957455\n",
      "the accuracy of classification   0.877414227901\n",
      "the accuracy of classification   0.470202776759\n",
      "the accuracy of classification   0.92767376416\n",
      "the accuracy of classification   0.557748828372\n",
      "the accuracy of classification   0.92464238624\n",
      "the accuracy of classification   0.801810568674\n",
      "the accuracy of classification   0.889164279874\n",
      "the accuracy of classification   0.702411082859\n",
      "the accuracy of classification   0.90468317448\n",
      "the accuracy of classification   0.802698634758\n",
      "the accuracy of classification   0.88273023217\n",
      "the accuracy of classification   0.600582403053\n",
      "the accuracy of classification   0.923058322124\n",
      "the accuracy of classification   0.715110379648\n",
      "the accuracy of classification   0.901071613664\n",
      "the accuracy of classification   0.520781005228\n",
      "the accuracy of classification   0.945070158369\n",
      "the accuracy of classification   0.808543344666\n",
      "the accuracy of classification   0.908938807108\n",
      "the accuracy of classification   0.745369579726\n",
      "the accuracy of classification   0.913579310709\n",
      "the accuracy of classification   0.438813863908\n",
      "the accuracy of classification   0.94676909188\n",
      "the accuracy of classification   0.568623177232\n",
      "the accuracy of classification   0.942048412746\n",
      "the accuracy of classification   0.794005123692\n",
      "the accuracy of classification   0.91171985526\n",
      "the accuracy of classification   0.664916219273\n",
      "the accuracy of classification   0.932100953541\n",
      "the accuracy of classification   0.749611643725\n",
      "the accuracy of classification   0.916836993611\n",
      "the accuracy of classification   0.53503572755\n",
      "the accuracy of classification   0.944567145574\n",
      "the accuracy of classification   0.711600217809\n",
      "the accuracy of classification   0.947593099123\n",
      "the accuracy of classification   0.487702194926\n",
      "the accuracy of classification   0.96237131419\n",
      "the accuracy of classification   0.819853599501\n",
      "the accuracy of classification   0.924914195931\n",
      "the accuracy of classification   0.763184014104\n",
      "the accuracy of classification   0.964100497632\n",
      "the accuracy of classification   0.323229192379\n",
      "the accuracy of classification   0.961546064927\n",
      "the accuracy of classification   0.582587688747\n",
      "the accuracy of classification   0.956692312781\n",
      "the accuracy of classification   0.850256348293\n",
      "the accuracy of classification   0.94011642871\n",
      "the accuracy of classification   0.641757744385\n",
      "the accuracy of classification   0.960241317415\n",
      "the accuracy of classification   0.701213634307\n",
      "the accuracy of classification   0.955605567252\n",
      "the accuracy of classification   0.523842916938\n",
      "the accuracy of classification   0.964406782923\n",
      "the accuracy of classification   0.723928961455\n",
      "the accuracy of classification   0.965724248492\n",
      "the accuracy of classification   0.479062431648\n",
      "the accuracy of classification   0.975360251697\n",
      "the accuracy of classification   0.819995476302\n",
      "the accuracy of classification   0.94981619309\n",
      "the accuracy of classification   0.681500315827\n",
      "the accuracy of classification   0.976634190722\n",
      "the accuracy of classification   0.467360485591\n",
      "the accuracy of classification   0.974765707751\n",
      "the accuracy of classification   0.541975879273\n",
      "the accuracy of classification   0.968608050561\n",
      "the accuracy of classification   0.794591024044\n",
      "the accuracy of classification   0.969439806651\n",
      "the accuracy of classification   0.640877799022\n",
      "the accuracy of classification   0.976267202926\n",
      "the accuracy of classification   0.653635795273\n",
      "the accuracy of classification   0.969645839511\n",
      "the accuracy of classification   0.540419113577\n",
      "the accuracy of classification   0.974734114719\n",
      "the accuracy of classification   0.724470577349\n",
      "the accuracy of classification   0.98105851931\n",
      "the accuracy of classification   0.482507221626\n",
      "the accuracy of classification   0.98406664962\n",
      "the accuracy of classification   0.798795389569\n",
      "the accuracy of classification   0.980733022829\n",
      "the accuracy of classification   0.662702879336\n",
      "the accuracy of classification   0.986221427421\n",
      "the accuracy of classification   0.349869754569\n",
      "the accuracy of classification   0.987584519707\n",
      "the accuracy of classification   0.558344603527\n",
      "the accuracy of classification   0.978133190864\n",
      "the accuracy of classification   0.795349639\n",
      "the accuracy of classification   0.980099691412\n",
      "the accuracy of classification   0.709003226515\n",
      "the accuracy of classification   0.986407376107\n",
      "the accuracy of classification   0.655423391213\n",
      "the accuracy of classification   0.977890982304\n",
      "the accuracy of classification   0.573160874765\n",
      "the accuracy of classification   0.984466156687\n",
      "the accuracy of classification   0.707858083316\n",
      "the accuracy of classification   0.988717304791\n",
      "the accuracy of classification   0.457702599183\n",
      "the accuracy of classification   0.991838109911\n",
      "the accuracy of classification   0.792034577231\n",
      "the accuracy of classification   0.988224614038\n",
      "the accuracy of classification   0.654207757264\n",
      "the accuracy of classification   0.991891989691\n",
      "the accuracy of classification   0.306461597783\n",
      "the accuracy of classification   0.994649246266\n",
      "the accuracy of classification   0.527883087176\n",
      "the accuracy of classification   0.984671872287\n",
      "the accuracy of classification   0.78462154749\n",
      "the accuracy of classification   0.986294668029\n",
      "the accuracy of classification   0.645897416333\n",
      "the accuracy of classification   0.99315089977\n",
      "the accuracy of classification   0.683527295327\n",
      "the accuracy of classification   0.98687644368\n",
      "the accuracy of classification   0.536191872032\n",
      "the accuracy of classification   0.989747169725\n",
      "the accuracy of classification   0.710546909107\n",
      "the accuracy of classification   0.99291415387\n"
     ]
    },
    {
     "data": {
      "text/plain": [
       "5"
      ]
     },
     "execution_count": 56,
     "metadata": {},
     "output_type": "execute_result"
    }
   ],
   "source": [
    "reg=fit_model(train_X,train_y)\n",
    "reg.get_params()['max_depth']"
   ]
  },
  {
   "cell_type": "code",
   "execution_count": 57,
   "metadata": {},
   "outputs": [
    {
     "name": "stdout",
     "output_type": "stream",
     "text": [
      "the accuracy of classification   -0.115779422858\n",
      "the accuracy of classification   -0.185733043968\n",
      "the accuracy of classification   0.156439230606\n",
      "the accuracy of classification   -0.138898459171\n",
      "the accuracy of classification   -0.583494534645\n",
      "the accuracy of classification   -0.0990189812412\n",
      "the accuracy of classification   -1.17611834322\n",
      "the accuracy of classification   0.210686681002\n",
      "the accuracy of classification   -0.268052751394\n",
      "the accuracy of classification   0.0743292687445\n",
      "the accuracy of classification   -0.317042810483\n",
      "the accuracy of classification   -0.2161465017\n",
      "the accuracy of classification   -0.602672040829\n",
      "the accuracy of classification   -0.0388592704353\n",
      "the accuracy of classification   -0.139663329391\n",
      "the accuracy of classification   -0.104029145543\n",
      "the accuracy of classification   -0.794646465115\n",
      "the accuracy of classification   -0.0222016039089\n",
      "the accuracy of classification   -0.459652778868\n",
      "the accuracy of classification   -0.102093538129\n",
      "the accuracy of classification   0.584894094547\n",
      "the accuracy of classification   0.577438070587\n",
      "the accuracy of classification   0.71664734936\n",
      "the accuracy of classification   0.59610919444\n",
      "the accuracy of classification   0.536238390333\n",
      "the accuracy of classification   0.592092761599\n",
      "the accuracy of classification   -0.0967317628829\n",
      "the accuracy of classification   0.69686905286\n",
      "the accuracy of classification   0.349976907617\n",
      "the accuracy of classification   0.649657485384\n",
      "the accuracy of classification   0.694534912915\n",
      "the accuracy of classification   0.53780432161\n",
      "the accuracy of classification   0.476395985685\n",
      "the accuracy of classification   0.655442837673\n",
      "the accuracy of classification   0.481822509193\n",
      "the accuracy of classification   0.54078285827\n",
      "the accuracy of classification   0.260056970316\n",
      "the accuracy of classification   0.623736497383\n",
      "the accuracy of classification   0.44711596715\n",
      "the accuracy of classification   0.581303432916\n",
      "the accuracy of classification   0.785594248227\n",
      "the accuracy of classification   0.743055231597\n",
      "the accuracy of classification   0.815560183327\n",
      "the accuracy of classification   0.749974723353\n",
      "the accuracy of classification   0.578090862566\n",
      "the accuracy of classification   0.756521747008\n",
      "the accuracy of classification   0.175575289855\n",
      "the accuracy of classification   0.818248743992\n",
      "the accuracy of classification   0.505778359658\n",
      "the accuracy of classification   0.808920028529\n",
      "the accuracy of classification   0.776728518186\n",
      "the accuracy of classification   0.72126487748\n",
      "the accuracy of classification   0.63407139942\n",
      "the accuracy of classification   0.782885283839\n",
      "the accuracy of classification   0.604442668775\n",
      "the accuracy of classification   0.741327650219\n",
      "the accuracy of classification   0.496753875001\n",
      "the accuracy of classification   0.78756820893\n",
      "the accuracy of classification   0.67668470812\n",
      "the accuracy of classification   0.762925780437\n",
      "the accuracy of classification   0.694390642654\n",
      "the accuracy of classification   0.846123973085\n",
      "the accuracy of classification   0.80366124321\n",
      "the accuracy of classification   0.841129600862\n",
      "the accuracy of classification   0.582519491452\n",
      "the accuracy of classification   0.832357110073\n",
      "the accuracy of classification   0.359699597782\n",
      "the accuracy of classification   0.897011742368\n",
      "the accuracy of classification   0.552565466384\n",
      "the accuracy of classification   0.884809092956\n",
      "the accuracy of classification   0.795216230226\n",
      "the accuracy of classification   0.841222357376\n",
      "the accuracy of classification   0.670237057105\n",
      "the accuracy of classification   0.86857317433\n",
      "the accuracy of classification   0.697314048128\n",
      "the accuracy of classification   0.850795964799\n",
      "the accuracy of classification   0.621560497854\n",
      "the accuracy of classification   0.846836734451\n",
      "the accuracy of classification   0.755286857502\n",
      "the accuracy of classification   0.843912646216\n",
      "the accuracy of classification   0.552794071373\n",
      "the accuracy of classification   0.92122502323\n",
      "the accuracy of classification   0.809833386282\n",
      "the accuracy of classification   0.885427787731\n",
      "the accuracy of classification   0.765317957455\n",
      "the accuracy of classification   0.877414227901\n",
      "the accuracy of classification   0.371841833262\n",
      "the accuracy of classification   0.92767376416\n",
      "the accuracy of classification   0.557748828372\n",
      "the accuracy of classification   0.92464238624\n",
      "the accuracy of classification   0.801810568674\n",
      "the accuracy of classification   0.889164279874\n",
      "the accuracy of classification   0.6686318586\n",
      "the accuracy of classification   0.90468317448\n",
      "the accuracy of classification   0.837887250691\n",
      "the accuracy of classification   0.88273023217\n",
      "the accuracy of classification   0.600582403053\n",
      "the accuracy of classification   0.923058322124\n",
      "the accuracy of classification   0.715110379648\n",
      "the accuracy of classification   0.901071613664\n",
      "the accuracy of classification   0.518528263338\n",
      "the accuracy of classification   0.945070158369\n",
      "the accuracy of classification   0.808079047963\n",
      "the accuracy of classification   0.908938807108\n",
      "the accuracy of classification   0.654056892789\n",
      "the accuracy of classification   0.913579310709\n",
      "the accuracy of classification   0.31428109066\n",
      "the accuracy of classification   0.94676909188\n",
      "the accuracy of classification   0.568623177232\n",
      "the accuracy of classification   0.942048412746\n",
      "the accuracy of classification   0.859233490593\n",
      "the accuracy of classification   0.91171985526\n",
      "the accuracy of classification   0.704415060911\n",
      "the accuracy of classification   0.932100953541\n",
      "the accuracy of classification   0.749611643725\n",
      "the accuracy of classification   0.916836993611\n",
      "the accuracy of classification   0.546735385112\n",
      "the accuracy of classification   0.944567145574\n",
      "the accuracy of classification   0.711600217809\n",
      "the accuracy of classification   0.947593099123\n",
      "the accuracy of classification   0.489866764374\n",
      "the accuracy of classification   0.96237131419\n",
      "the accuracy of classification   0.82313214329\n",
      "the accuracy of classification   0.924914195931\n",
      "the accuracy of classification   0.763184014104\n",
      "the accuracy of classification   0.964100497632\n",
      "the accuracy of classification   0.302757076919\n",
      "the accuracy of classification   0.961546064927\n",
      "the accuracy of classification   0.587802668852\n",
      "the accuracy of classification   0.956692312781\n",
      "the accuracy of classification   0.78667849338\n",
      "the accuracy of classification   0.94011642871\n",
      "the accuracy of classification   0.646592908442\n",
      "the accuracy of classification   0.960241317415\n",
      "the accuracy of classification   0.66946030962\n",
      "the accuracy of classification   0.955605567252\n",
      "the accuracy of classification   0.555819848953\n",
      "the accuracy of classification   0.964406782923\n",
      "the accuracy of classification   0.728392929177\n",
      "the accuracy of classification   0.965724248492\n",
      "the accuracy of classification   0.479732208134\n",
      "the accuracy of classification   0.975360251697\n",
      "the accuracy of classification   0.817421293053\n",
      "the accuracy of classification   0.94981619309\n",
      "the accuracy of classification   0.659663071463\n",
      "the accuracy of classification   0.976634190722\n",
      "the accuracy of classification   0.342030544231\n",
      "the accuracy of classification   0.974765707751\n",
      "the accuracy of classification   0.546235060231\n",
      "the accuracy of classification   0.968608050561\n",
      "the accuracy of classification   0.856707478084\n",
      "the accuracy of classification   0.969439806651\n",
      "the accuracy of classification   0.698158560362\n",
      "the accuracy of classification   0.976267202926\n",
      "the accuracy of classification   0.68315408694\n",
      "the accuracy of classification   0.969645839511\n",
      "the accuracy of classification   0.569119634319\n",
      "the accuracy of classification   0.974734114719\n",
      "the accuracy of classification   0.726246280667\n",
      "the accuracy of classification   0.98105851931\n",
      "the accuracy of classification   0.476107197277\n",
      "the accuracy of classification   0.98406664962\n",
      "the accuracy of classification   0.783179774192\n",
      "the accuracy of classification   0.980733022829\n",
      "the accuracy of classification   0.716902713095\n",
      "the accuracy of classification   0.986221427421\n",
      "the accuracy of classification   0.424063302429\n",
      "the accuracy of classification   0.987584519707\n",
      "the accuracy of classification   0.538688954334\n",
      "the accuracy of classification   0.978133190864\n",
      "the accuracy of classification   0.858231084493\n",
      "the accuracy of classification   0.980099691412\n",
      "the accuracy of classification   0.714184288404\n",
      "the accuracy of classification   0.986407376107\n",
      "the accuracy of classification   0.650679197516\n",
      "the accuracy of classification   0.977890982304\n",
      "the accuracy of classification   0.495856711647\n",
      "the accuracy of classification   0.984466156687\n",
      "the accuracy of classification   0.717035224462\n",
      "the accuracy of classification   0.988717304791\n",
      "the accuracy of classification   0.454392393405\n",
      "the accuracy of classification   0.991838109911\n",
      "the accuracy of classification   0.798269898344\n",
      "the accuracy of classification   0.988224614038\n",
      "the accuracy of classification   0.742862420358\n",
      "the accuracy of classification   0.991891989691\n",
      "the accuracy of classification   0.411041049123\n",
      "the accuracy of classification   0.994649246266\n",
      "the accuracy of classification   0.494184181677\n",
      "the accuracy of classification   0.984671872287\n",
      "the accuracy of classification   0.854585676824\n",
      "the accuracy of classification   0.986294668029\n",
      "the accuracy of classification   0.720052680764\n",
      "the accuracy of classification   0.99315089977\n",
      "the accuracy of classification   0.660482223029\n",
      "the accuracy of classification   0.98687644368\n",
      "the accuracy of classification   0.5242396714\n",
      "the accuracy of classification   0.989747169725\n",
      "the accuracy of classification   0.713549810102\n",
      "the accuracy of classification   0.99291415387\n"
     ]
    },
    {
     "data": {
      "text/plain": [
       "{'criterion': 'mse',\n",
       " 'max_depth': 5,\n",
       " 'max_features': None,\n",
       " 'max_leaf_nodes': None,\n",
       " 'min_impurity_decrease': 0.0,\n",
       " 'min_impurity_split': None,\n",
       " 'min_samples_leaf': 1,\n",
       " 'min_samples_split': 2,\n",
       " 'min_weight_fraction_leaf': 0.0,\n",
       " 'presort': False,\n",
       " 'random_state': None,\n",
       " 'splitter': 'best'}"
      ]
     },
     "execution_count": 57,
     "metadata": {},
     "output_type": "execute_result"
    }
   ],
   "source": [
    "reg_2=fit_model2(train_X,train_y)\n",
    "reg_2.get_params()"
   ]
  },
  {
   "cell_type": "code",
   "execution_count": 58,
   "metadata": {
    "collapsed": true
   },
   "outputs": [],
   "source": [
    "client_data=[[5,17,15],\n",
    "             [4,32,22],\n",
    "             [8,3,12]]"
   ]
  },
  {
   "cell_type": "code",
   "execution_count": 59,
   "metadata": {},
   "outputs": [
    {
     "name": "stdout",
     "output_type": "stream",
     "text": [
      "[ 20.53125     11.89310345  48.23846154]\n"
     ]
    }
   ],
   "source": [
    "print(reg.predict(client_data))"
   ]
  },
  {
   "cell_type": "code",
   "execution_count": 62,
   "metadata": {},
   "outputs": [
    {
     "data": {
      "image/png": "[encoded data removed]",
      "text/plain": [
       "<matplotlib.figure.Figure at 0x1cfb162dac8>"
      ]
     },
     "metadata": {},
     "output_type": "display_data"
    }
   ],
   "source": [
    "price.hist(bins=50)\n",
    "for prices in reg.predict(client_data):\n",
    "    plt.axvline(prices,lw=5,c='r')"
   ]
  },
  {
   "cell_type": "code",
   "execution_count": null,
   "metadata": {
    "collapsed": true
   },
   "outputs": [],
   "source": []
  }
 ],
 "metadata": {
  "kernelspec": {
   "display_name": "Python 3",
   "language": "python",
   "name": "python3"
  },
  "language_info": {
   "codemirror_mode": {
    "name": "ipython",
    "version": 3
   },
   "file_extension": ".py",
   "mimetype": "text/x-python",
   "name": "python",
   "nbconvert_exporter": "python",
   "pygments_lexer": "ipython3",
   "version": "3.6.3"
  }
 },
 "nbformat": 4,
 "nbformat_minor": 2
}
